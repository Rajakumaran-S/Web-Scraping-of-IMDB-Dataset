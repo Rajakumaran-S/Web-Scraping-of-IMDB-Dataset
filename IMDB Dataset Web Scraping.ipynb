{
 "cells": [
  {
   "cell_type": "markdown",
   "id": "0e785af0",
   "metadata": {},
   "source": [
    "## Top Rated 250 Movies from IMDB Website using Beautiful Soup"
   ]
  },
  {
   "cell_type": "code",
   "execution_count": 80,
   "id": "9d9d302d",
   "metadata": {},
   "outputs": [],
   "source": [
    "# import Library\n",
    "from bs4 import BeautifulSoup\n",
    "import requests\n",
    "import openpyxl\n",
    "\n",
    "# Creating Empty Excel file\n",
    "excel=openpyxl.Workbook()\n",
    "excel.sheetnames\n",
    "sheet=excel.active\n",
    "sheet.title='Top 250 Movies'\n",
    "sheet.append(['Rank','Movie Name','Year of Release',' Directer&cast'])\n",
    "\n",
    "#Get HTML Text code\n",
    "source_html=requests.get('https://www.imdb.com/chart/top/').text\n",
    "\n",
    "#Calling Beautiful soup with object soup\n",
    "soup=BeautifulSoup(source_html,'lxml')\n",
    "\n",
    "#Finding code of Movies information\n",
    "movies=soup.find(\"tbody\",class_=\"lister-list\")\n",
    "\n",
    "#Get List of 250 movies code to iterate\n",
    "title_full_list=movies.find_all('td',class_=\"titleColumn\")\n",
    "\n",
    "#Iterating movies infomation\n",
    "for title_full in title_full_list:\n",
    "    dir_cast=title_full.a['title'] #Get Director and Cast names\n",
    "    movie_title=title_full.a.text # Get Movie Title\n",
    "    release_year=title_full.span.text.replace('(','').replace(')','') #Get release year\n",
    "    rank=title_full.text.strip().split('.')[0]  # get rank of the movie\n",
    "    sheet.append([rank,movie_title,release_year,dir_cast]) #Appending all info to excel file\n",
    "    \n",
    "# Save Excel file name with Top IMDB Movies.xlsx\n",
    "excel.save('Top IMDB Movies.xlsx')"
   ]
  },
  {
   "cell_type": "markdown",
   "id": "d6fdba32",
   "metadata": {},
   "source": [
    "### Successfully completed Web Scraping of IMDB data."
   ]
  }
 ],
 "metadata": {
  "kernelspec": {
   "display_name": "Python 3 (ipykernel)",
   "language": "python",
   "name": "python3"
  },
  "language_info": {
   "codemirror_mode": {
    "name": "ipython",
    "version": 3
   },
   "file_extension": ".py",
   "mimetype": "text/x-python",
   "name": "python",
   "nbconvert_exporter": "python",
   "pygments_lexer": "ipython3",
   "version": "3.9.13"
  }
 },
 "nbformat": 4,
 "nbformat_minor": 5
}
